{
 "cells": [
  {
   "cell_type": "code",
   "execution_count": 95,
   "id": "6fbcf0b0",
   "metadata": {},
   "outputs": [],
   "source": [
    "import numpy as np\n",
    "import pandas as pd\n",
    "\n",
    "from sklearn.model_selection import train_test_split,GridSearchCV,RandomizedSearchCV\n",
    "from sklearn.linear_model import LinearRegression,LogisticRegression,RidgeClassifier\n",
    "\n",
    "from sklearn.metrics import confusion_matrix,accuracy_score,classification_report\n",
    "from sklearn.metrics import precision_score,recall_score,f1_score\n",
    "from sklearn.metrics import roc_curve,roc_auc_score\n",
    "\n",
    "from sklearn.neighbors import KNeighborsClassifier,KNeighborsRegressor\n",
    "from sklearn.metrics import ConfusionMatrixDisplay\n",
    "\n",
    "from imblearn.over_sampling import SMOTE\n",
    "from imblearn.over_sampling import RandomOverSampler\n",
    "from imblearn.under_sampling import RandomUnderSampler\n",
    "\n",
    "import matplotlib.pyplot as plt\n",
    "\n",
    "import pickle\n",
    "import json\n",
    "\n",
    "import config\n"
   ]
  },
  {
   "cell_type": "code",
   "execution_count": null,
   "id": "67b69b3a",
   "metadata": {},
   "outputs": [],
   "source": []
  },
  {
   "cell_type": "markdown",
   "id": "04c443a8",
   "metadata": {},
   "source": [
    "### 1.Problem Statement"
   ]
  },
  {
   "cell_type": "markdown",
   "id": "e9313181",
   "metadata": {},
   "source": [
    "ABC is a firm that is experiencing a spike in employee attrition from 14% to 25% over the last year. \n",
    "The objective of this case study is to identify a strategy to address this problem in the immediate short term as well as develop a long term employee satisfaction program.\n",
    "\n",
    "Salary hikes are not an option.\n",
    "\n"
   ]
  },
  {
   "cell_type": "markdown",
   "id": "55b8b46a",
   "metadata": {},
   "source": [
    "### 2.Data Gathering"
   ]
  },
  {
   "cell_type": "code",
   "execution_count": 97,
   "id": "de905ee8",
   "metadata": {},
   "outputs": [
    {
     "data": {
      "text/html": [
       "<div>\n",
       "<style scoped>\n",
       "    .dataframe tbody tr th:only-of-type {\n",
       "        vertical-align: middle;\n",
       "    }\n",
       "\n",
       "    .dataframe tbody tr th {\n",
       "        vertical-align: top;\n",
       "    }\n",
       "\n",
       "    .dataframe thead th {\n",
       "        text-align: right;\n",
       "    }\n",
       "</style>\n",
       "<table border=\"1\" class=\"dataframe\">\n",
       "  <thead>\n",
       "    <tr style=\"text-align: right;\">\n",
       "      <th></th>\n",
       "      <th>Age</th>\n",
       "      <th>Attrition</th>\n",
       "      <th>Department</th>\n",
       "      <th>DistanceFromHome</th>\n",
       "      <th>Education</th>\n",
       "      <th>EducationField</th>\n",
       "      <th>EnvironmentSatisfaction</th>\n",
       "      <th>JobSatisfaction</th>\n",
       "      <th>MaritalStatus</th>\n",
       "      <th>MonthlyIncome</th>\n",
       "      <th>NumCompaniesWorked</th>\n",
       "      <th>WorkLifeBalance</th>\n",
       "      <th>YearsAtCompany</th>\n",
       "    </tr>\n",
       "  </thead>\n",
       "  <tbody>\n",
       "    <tr>\n",
       "      <th>0</th>\n",
       "      <td>41</td>\n",
       "      <td>Yes</td>\n",
       "      <td>Sales</td>\n",
       "      <td>1</td>\n",
       "      <td>2</td>\n",
       "      <td>Life Sciences</td>\n",
       "      <td>2</td>\n",
       "      <td>4</td>\n",
       "      <td>Single</td>\n",
       "      <td>5993</td>\n",
       "      <td>8</td>\n",
       "      <td>1</td>\n",
       "      <td>6</td>\n",
       "    </tr>\n",
       "    <tr>\n",
       "      <th>1</th>\n",
       "      <td>49</td>\n",
       "      <td>No</td>\n",
       "      <td>Research &amp; Development</td>\n",
       "      <td>8</td>\n",
       "      <td>1</td>\n",
       "      <td>Life Sciences</td>\n",
       "      <td>3</td>\n",
       "      <td>2</td>\n",
       "      <td>Married</td>\n",
       "      <td>5130</td>\n",
       "      <td>1</td>\n",
       "      <td>3</td>\n",
       "      <td>10</td>\n",
       "    </tr>\n",
       "    <tr>\n",
       "      <th>2</th>\n",
       "      <td>37</td>\n",
       "      <td>Yes</td>\n",
       "      <td>Research &amp; Development</td>\n",
       "      <td>2</td>\n",
       "      <td>2</td>\n",
       "      <td>Other</td>\n",
       "      <td>4</td>\n",
       "      <td>3</td>\n",
       "      <td>Single</td>\n",
       "      <td>2090</td>\n",
       "      <td>6</td>\n",
       "      <td>3</td>\n",
       "      <td>0</td>\n",
       "    </tr>\n",
       "    <tr>\n",
       "      <th>3</th>\n",
       "      <td>33</td>\n",
       "      <td>No</td>\n",
       "      <td>Research &amp; Development</td>\n",
       "      <td>3</td>\n",
       "      <td>4</td>\n",
       "      <td>Life Sciences</td>\n",
       "      <td>4</td>\n",
       "      <td>3</td>\n",
       "      <td>Married</td>\n",
       "      <td>2909</td>\n",
       "      <td>1</td>\n",
       "      <td>3</td>\n",
       "      <td>8</td>\n",
       "    </tr>\n",
       "    <tr>\n",
       "      <th>4</th>\n",
       "      <td>27</td>\n",
       "      <td>No</td>\n",
       "      <td>Research &amp; Development</td>\n",
       "      <td>2</td>\n",
       "      <td>1</td>\n",
       "      <td>Medical</td>\n",
       "      <td>1</td>\n",
       "      <td>2</td>\n",
       "      <td>Married</td>\n",
       "      <td>3468</td>\n",
       "      <td>9</td>\n",
       "      <td>3</td>\n",
       "      <td>2</td>\n",
       "    </tr>\n",
       "    <tr>\n",
       "      <th>...</th>\n",
       "      <td>...</td>\n",
       "      <td>...</td>\n",
       "      <td>...</td>\n",
       "      <td>...</td>\n",
       "      <td>...</td>\n",
       "      <td>...</td>\n",
       "      <td>...</td>\n",
       "      <td>...</td>\n",
       "      <td>...</td>\n",
       "      <td>...</td>\n",
       "      <td>...</td>\n",
       "      <td>...</td>\n",
       "      <td>...</td>\n",
       "    </tr>\n",
       "    <tr>\n",
       "      <th>1465</th>\n",
       "      <td>36</td>\n",
       "      <td>No</td>\n",
       "      <td>Research &amp; Development</td>\n",
       "      <td>23</td>\n",
       "      <td>2</td>\n",
       "      <td>Medical</td>\n",
       "      <td>3</td>\n",
       "      <td>4</td>\n",
       "      <td>Married</td>\n",
       "      <td>2571</td>\n",
       "      <td>4</td>\n",
       "      <td>3</td>\n",
       "      <td>5</td>\n",
       "    </tr>\n",
       "    <tr>\n",
       "      <th>1466</th>\n",
       "      <td>39</td>\n",
       "      <td>No</td>\n",
       "      <td>Research &amp; Development</td>\n",
       "      <td>6</td>\n",
       "      <td>1</td>\n",
       "      <td>Medical</td>\n",
       "      <td>4</td>\n",
       "      <td>1</td>\n",
       "      <td>Married</td>\n",
       "      <td>9991</td>\n",
       "      <td>4</td>\n",
       "      <td>3</td>\n",
       "      <td>7</td>\n",
       "    </tr>\n",
       "    <tr>\n",
       "      <th>1467</th>\n",
       "      <td>27</td>\n",
       "      <td>No</td>\n",
       "      <td>Research &amp; Development</td>\n",
       "      <td>4</td>\n",
       "      <td>3</td>\n",
       "      <td>Life Sciences</td>\n",
       "      <td>2</td>\n",
       "      <td>2</td>\n",
       "      <td>Married</td>\n",
       "      <td>6142</td>\n",
       "      <td>1</td>\n",
       "      <td>3</td>\n",
       "      <td>6</td>\n",
       "    </tr>\n",
       "    <tr>\n",
       "      <th>1468</th>\n",
       "      <td>49</td>\n",
       "      <td>No</td>\n",
       "      <td>Sales</td>\n",
       "      <td>2</td>\n",
       "      <td>3</td>\n",
       "      <td>Medical</td>\n",
       "      <td>4</td>\n",
       "      <td>2</td>\n",
       "      <td>Married</td>\n",
       "      <td>5390</td>\n",
       "      <td>2</td>\n",
       "      <td>2</td>\n",
       "      <td>9</td>\n",
       "    </tr>\n",
       "    <tr>\n",
       "      <th>1469</th>\n",
       "      <td>34</td>\n",
       "      <td>No</td>\n",
       "      <td>Research &amp; Development</td>\n",
       "      <td>8</td>\n",
       "      <td>3</td>\n",
       "      <td>Medical</td>\n",
       "      <td>2</td>\n",
       "      <td>3</td>\n",
       "      <td>Married</td>\n",
       "      <td>4404</td>\n",
       "      <td>2</td>\n",
       "      <td>4</td>\n",
       "      <td>4</td>\n",
       "    </tr>\n",
       "  </tbody>\n",
       "</table>\n",
       "<p>1470 rows × 13 columns</p>\n",
       "</div>"
      ],
      "text/plain": [
       "      Age Attrition              Department  DistanceFromHome  Education  \\\n",
       "0      41       Yes                   Sales                 1          2   \n",
       "1      49        No  Research & Development                 8          1   \n",
       "2      37       Yes  Research & Development                 2          2   \n",
       "3      33        No  Research & Development                 3          4   \n",
       "4      27        No  Research & Development                 2          1   \n",
       "...   ...       ...                     ...               ...        ...   \n",
       "1465   36        No  Research & Development                23          2   \n",
       "1466   39        No  Research & Development                 6          1   \n",
       "1467   27        No  Research & Development                 4          3   \n",
       "1468   49        No                   Sales                 2          3   \n",
       "1469   34        No  Research & Development                 8          3   \n",
       "\n",
       "     EducationField  EnvironmentSatisfaction  JobSatisfaction MaritalStatus  \\\n",
       "0     Life Sciences                        2                4        Single   \n",
       "1     Life Sciences                        3                2       Married   \n",
       "2             Other                        4                3        Single   \n",
       "3     Life Sciences                        4                3       Married   \n",
       "4           Medical                        1                2       Married   \n",
       "...             ...                      ...              ...           ...   \n",
       "1465        Medical                        3                4       Married   \n",
       "1466        Medical                        4                1       Married   \n",
       "1467  Life Sciences                        2                2       Married   \n",
       "1468        Medical                        4                2       Married   \n",
       "1469        Medical                        2                3       Married   \n",
       "\n",
       "      MonthlyIncome  NumCompaniesWorked  WorkLifeBalance  YearsAtCompany  \n",
       "0              5993                   8                1               6  \n",
       "1              5130                   1                3              10  \n",
       "2              2090                   6                3               0  \n",
       "3              2909                   1                3               8  \n",
       "4              3468                   9                3               2  \n",
       "...             ...                 ...              ...             ...  \n",
       "1465           2571                   4                3               5  \n",
       "1466           9991                   4                3               7  \n",
       "1467           6142                   1                3               6  \n",
       "1468           5390                   2                2               9  \n",
       "1469           4404                   2                4               4  \n",
       "\n",
       "[1470 rows x 13 columns]"
      ]
     },
     "execution_count": 97,
     "metadata": {},
     "output_type": "execute_result"
    }
   ],
   "source": [
    "df = pd.read_csv(\"Attrition Data.csv\")\n",
    "df"
   ]
  },
  {
   "cell_type": "markdown",
   "id": "4731c663",
   "metadata": {},
   "source": [
    "### EDA"
   ]
  },
  {
   "cell_type": "code",
   "execution_count": 98,
   "id": "cef80e0b",
   "metadata": {},
   "outputs": [
    {
     "name": "stdout",
     "output_type": "stream",
     "text": [
      "<class 'pandas.core.frame.DataFrame'>\n",
      "RangeIndex: 1470 entries, 0 to 1469\n",
      "Data columns (total 13 columns):\n",
      " #   Column                   Non-Null Count  Dtype \n",
      "---  ------                   --------------  ----- \n",
      " 0   Age                      1470 non-null   int64 \n",
      " 1   Attrition                1470 non-null   object\n",
      " 2   Department               1470 non-null   object\n",
      " 3   DistanceFromHome         1470 non-null   int64 \n",
      " 4   Education                1470 non-null   int64 \n",
      " 5   EducationField           1470 non-null   object\n",
      " 6   EnvironmentSatisfaction  1470 non-null   int64 \n",
      " 7   JobSatisfaction          1470 non-null   int64 \n",
      " 8   MaritalStatus            1470 non-null   object\n",
      " 9   MonthlyIncome            1470 non-null   int64 \n",
      " 10  NumCompaniesWorked       1470 non-null   int64 \n",
      " 11  WorkLifeBalance          1470 non-null   int64 \n",
      " 12  YearsAtCompany           1470 non-null   int64 \n",
      "dtypes: int64(9), object(4)\n",
      "memory usage: 149.4+ KB\n"
     ]
    }
   ],
   "source": [
    "df.info()"
   ]
  },
  {
   "cell_type": "code",
   "execution_count": 99,
   "id": "07516e6d",
   "metadata": {},
   "outputs": [
    {
     "data": {
      "text/plain": [
       "Age                        0\n",
       "Attrition                  0\n",
       "Department                 0\n",
       "DistanceFromHome           0\n",
       "Education                  0\n",
       "EducationField             0\n",
       "EnvironmentSatisfaction    0\n",
       "JobSatisfaction            0\n",
       "MaritalStatus              0\n",
       "MonthlyIncome              0\n",
       "NumCompaniesWorked         0\n",
       "WorkLifeBalance            0\n",
       "YearsAtCompany             0\n",
       "dtype: int64"
      ]
     },
     "execution_count": 99,
     "metadata": {},
     "output_type": "execute_result"
    }
   ],
   "source": [
    "df.isna().sum()"
   ]
  },
  {
   "cell_type": "code",
   "execution_count": 100,
   "id": "36ef430f",
   "metadata": {},
   "outputs": [
    {
     "data": {
      "text/plain": [
       "No     1233\n",
       "Yes     237\n",
       "Name: Attrition, dtype: int64"
      ]
     },
     "execution_count": 100,
     "metadata": {},
     "output_type": "execute_result"
    }
   ],
   "source": [
    "df[\"Attrition\"].value_counts()"
   ]
  },
  {
   "cell_type": "code",
   "execution_count": 101,
   "id": "e3598cc7",
   "metadata": {},
   "outputs": [
    {
     "data": {
      "text/plain": [
       "0.16122448979591836"
      ]
     },
     "execution_count": 101,
     "metadata": {},
     "output_type": "execute_result"
    }
   ],
   "source": [
    "237/(1233+237)"
   ]
  },
  {
   "cell_type": "code",
   "execution_count": 102,
   "id": "c5146a4a",
   "metadata": {},
   "outputs": [],
   "source": [
    "#df[\"Age\"]"
   ]
  },
  {
   "cell_type": "code",
   "execution_count": 103,
   "id": "243aad96",
   "metadata": {},
   "outputs": [
    {
     "data": {
      "text/plain": [
       "{'Research & Development': 961, 'Sales': 446, 'Human Resources': 63}"
      ]
     },
     "execution_count": 103,
     "metadata": {},
     "output_type": "execute_result"
    }
   ],
   "source": [
    "df[\"Department\"].value_counts().to_dict()"
   ]
  },
  {
   "cell_type": "code",
   "execution_count": 104,
   "id": "37c6d45a",
   "metadata": {},
   "outputs": [],
   "source": [
    "df[\"Department\"].replace({'Research & Development': 2, 'Sales': 1, 'Human Resources': 0},inplace=True)"
   ]
  },
  {
   "cell_type": "code",
   "execution_count": 105,
   "id": "450e5742",
   "metadata": {},
   "outputs": [],
   "source": [
    "# df.info()"
   ]
  },
  {
   "cell_type": "code",
   "execution_count": 106,
   "id": "1f8f2078",
   "metadata": {},
   "outputs": [
    {
     "data": {
      "text/plain": [
       "{'Life Sciences': 606,\n",
       " 'Medical': 464,\n",
       " 'Marketing': 159,\n",
       " 'Technical Degree': 132,\n",
       " 'Other': 82,\n",
       " 'Human Resources': 27}"
      ]
     },
     "execution_count": 106,
     "metadata": {},
     "output_type": "execute_result"
    }
   ],
   "source": [
    "df[\"EducationField\"].value_counts().to_dict()"
   ]
  },
  {
   "cell_type": "code",
   "execution_count": 107,
   "id": "b85ac2bb",
   "metadata": {},
   "outputs": [],
   "source": [
    "df[\"EducationField\"].replace({'Life Sciences': 5,\n",
    "                                 'Medical': 4,\n",
    "                                 'Marketing': 3,\n",
    "                                 'Technical Degree': 2,\n",
    "                                 'Other': 1,\n",
    "                                 'Human Resources': 0},inplace = True)"
   ]
  },
  {
   "cell_type": "code",
   "execution_count": 108,
   "id": "5c1b7e1e",
   "metadata": {},
   "outputs": [],
   "source": [
    "# df.info()"
   ]
  },
  {
   "cell_type": "code",
   "execution_count": 109,
   "id": "55ca6539",
   "metadata": {},
   "outputs": [
    {
     "data": {
      "text/plain": [
       "{'Married': 673, 'Single': 470, 'Divorced': 327}"
      ]
     },
     "execution_count": 109,
     "metadata": {},
     "output_type": "execute_result"
    }
   ],
   "source": [
    "df[\"MaritalStatus\"].value_counts().to_dict()"
   ]
  },
  {
   "cell_type": "code",
   "execution_count": 110,
   "id": "a161244c",
   "metadata": {},
   "outputs": [],
   "source": [
    "df[\"MaritalStatus\"].replace({'Married': 2, 'Single': 1, 'Divorced': 0},inplace=True)"
   ]
  },
  {
   "cell_type": "code",
   "execution_count": 111,
   "id": "78e9879c",
   "metadata": {},
   "outputs": [],
   "source": [
    "# df.info()"
   ]
  },
  {
   "cell_type": "code",
   "execution_count": 112,
   "id": "d59fb28e",
   "metadata": {},
   "outputs": [
    {
     "data": {
      "text/plain": [
       "{'No': 1233, 'Yes': 237}"
      ]
     },
     "execution_count": 112,
     "metadata": {},
     "output_type": "execute_result"
    }
   ],
   "source": [
    "df[\"Attrition\"].value_counts().to_dict()"
   ]
  },
  {
   "cell_type": "code",
   "execution_count": 113,
   "id": "53db63dc",
   "metadata": {},
   "outputs": [],
   "source": [
    "df[\"Attrition\"].replace({'No': 1, 'Yes': 0},inplace=True)"
   ]
  },
  {
   "cell_type": "code",
   "execution_count": 114,
   "id": "74f13671",
   "metadata": {},
   "outputs": [
    {
     "name": "stdout",
     "output_type": "stream",
     "text": [
      "<class 'pandas.core.frame.DataFrame'>\n",
      "RangeIndex: 1470 entries, 0 to 1469\n",
      "Data columns (total 13 columns):\n",
      " #   Column                   Non-Null Count  Dtype\n",
      "---  ------                   --------------  -----\n",
      " 0   Age                      1470 non-null   int64\n",
      " 1   Attrition                1470 non-null   int64\n",
      " 2   Department               1470 non-null   int64\n",
      " 3   DistanceFromHome         1470 non-null   int64\n",
      " 4   Education                1470 non-null   int64\n",
      " 5   EducationField           1470 non-null   int64\n",
      " 6   EnvironmentSatisfaction  1470 non-null   int64\n",
      " 7   JobSatisfaction          1470 non-null   int64\n",
      " 8   MaritalStatus            1470 non-null   int64\n",
      " 9   MonthlyIncome            1470 non-null   int64\n",
      " 10  NumCompaniesWorked       1470 non-null   int64\n",
      " 11  WorkLifeBalance          1470 non-null   int64\n",
      " 12  YearsAtCompany           1470 non-null   int64\n",
      "dtypes: int64(13)\n",
      "memory usage: 149.4 KB\n"
     ]
    }
   ],
   "source": [
    "df.info()"
   ]
  },
  {
   "cell_type": "markdown",
   "id": "fbe5e6e3",
   "metadata": {},
   "source": [
    "### sampling"
   ]
  },
  {
   "cell_type": "markdown",
   "id": "f6fe6a78",
   "metadata": {},
   "source": [
    "#### use oversampling"
   ]
  },
  {
   "cell_type": "code",
   "execution_count": 115,
   "id": "af6f5add",
   "metadata": {},
   "outputs": [
    {
     "ename": "SyntaxError",
     "evalue": "invalid syntax (2407271794.py, line 1)",
     "output_type": "error",
     "traceback": [
      "\u001b[1;36m  Input \u001b[1;32mIn [115]\u001b[1;36m\u001b[0m\n\u001b[1;33m    it is use minorty class import\u001b[0m\n\u001b[1;37m              ^\u001b[0m\n\u001b[1;31mSyntaxError\u001b[0m\u001b[1;31m:\u001b[0m invalid syntax\n"
     ]
    }
   ],
   "source": [
    "it is use minorty class import "
   ]
  },
  {
   "cell_type": "markdown",
   "id": "dd11bbfa",
   "metadata": {},
   "source": [
    "### 1.RandomOverSampler"
   ]
  },
  {
   "cell_type": "code",
   "execution_count": 116,
   "id": "271d5bcf",
   "metadata": {},
   "outputs": [
    {
     "data": {
      "text/plain": [
       "1    1233\n",
       "0     986\n",
       "Name: Attrition, dtype: int64"
      ]
     },
     "execution_count": 116,
     "metadata": {},
     "output_type": "execute_result"
    }
   ],
   "source": [
    "x = df.drop('Attrition',axis = 1)\n",
    "y = df['Attrition']\n",
    "smote_oversampler = SMOTE(sampling_strategy=0.8, random_state=23)\n",
    "x_sampled, y_sampled = smote_oversampler.fit_resample(x,y)\n",
    "y_sampled.value_counts()"
   ]
  },
  {
   "cell_type": "code",
   "execution_count": 117,
   "id": "aceaa136",
   "metadata": {},
   "outputs": [],
   "source": [
    "x_train,x_test,y_train,y_test = train_test_split(x_sampled,y_sampled,test_size=0.3,random_state=10,stratify=y_sampled)"
   ]
  },
  {
   "cell_type": "code",
   "execution_count": 118,
   "id": "a7acd4f2",
   "metadata": {},
   "outputs": [
    {
     "name": "stderr",
     "output_type": "stream",
     "text": [
      "C:\\Users\\hp\\AppData\\Local\\Programs\\Python\\Python310\\lib\\site-packages\\sklearn\\linear_model\\_logistic.py:458: ConvergenceWarning: lbfgs failed to converge (status=1):\n",
      "STOP: TOTAL NO. of ITERATIONS REACHED LIMIT.\n",
      "\n",
      "Increase the number of iterations (max_iter) or scale the data as shown in:\n",
      "    https://scikit-learn.org/stable/modules/preprocessing.html\n",
      "Please also refer to the documentation for alternative solver options:\n",
      "    https://scikit-learn.org/stable/modules/linear_model.html#logistic-regression\n",
      "  n_iter_i = _check_optimize_result(\n"
     ]
    },
    {
     "data": {
      "text/html": [
       "<style>#sk-container-id-4 {color: black;background-color: white;}#sk-container-id-4 pre{padding: 0;}#sk-container-id-4 div.sk-toggleable {background-color: white;}#sk-container-id-4 label.sk-toggleable__label {cursor: pointer;display: block;width: 100%;margin-bottom: 0;padding: 0.3em;box-sizing: border-box;text-align: center;}#sk-container-id-4 label.sk-toggleable__label-arrow:before {content: \"▸\";float: left;margin-right: 0.25em;color: #696969;}#sk-container-id-4 label.sk-toggleable__label-arrow:hover:before {color: black;}#sk-container-id-4 div.sk-estimator:hover label.sk-toggleable__label-arrow:before {color: black;}#sk-container-id-4 div.sk-toggleable__content {max-height: 0;max-width: 0;overflow: hidden;text-align: left;background-color: #f0f8ff;}#sk-container-id-4 div.sk-toggleable__content pre {margin: 0.2em;color: black;border-radius: 0.25em;background-color: #f0f8ff;}#sk-container-id-4 input.sk-toggleable__control:checked~div.sk-toggleable__content {max-height: 200px;max-width: 100%;overflow: auto;}#sk-container-id-4 input.sk-toggleable__control:checked~label.sk-toggleable__label-arrow:before {content: \"▾\";}#sk-container-id-4 div.sk-estimator input.sk-toggleable__control:checked~label.sk-toggleable__label {background-color: #d4ebff;}#sk-container-id-4 div.sk-label input.sk-toggleable__control:checked~label.sk-toggleable__label {background-color: #d4ebff;}#sk-container-id-4 input.sk-hidden--visually {border: 0;clip: rect(1px 1px 1px 1px);clip: rect(1px, 1px, 1px, 1px);height: 1px;margin: -1px;overflow: hidden;padding: 0;position: absolute;width: 1px;}#sk-container-id-4 div.sk-estimator {font-family: monospace;background-color: #f0f8ff;border: 1px dotted black;border-radius: 0.25em;box-sizing: border-box;margin-bottom: 0.5em;}#sk-container-id-4 div.sk-estimator:hover {background-color: #d4ebff;}#sk-container-id-4 div.sk-parallel-item::after {content: \"\";width: 100%;border-bottom: 1px solid gray;flex-grow: 1;}#sk-container-id-4 div.sk-label:hover label.sk-toggleable__label {background-color: #d4ebff;}#sk-container-id-4 div.sk-serial::before {content: \"\";position: absolute;border-left: 1px solid gray;box-sizing: border-box;top: 0;bottom: 0;left: 50%;z-index: 0;}#sk-container-id-4 div.sk-serial {display: flex;flex-direction: column;align-items: center;background-color: white;padding-right: 0.2em;padding-left: 0.2em;position: relative;}#sk-container-id-4 div.sk-item {position: relative;z-index: 1;}#sk-container-id-4 div.sk-parallel {display: flex;align-items: stretch;justify-content: center;background-color: white;position: relative;}#sk-container-id-4 div.sk-item::before, #sk-container-id-4 div.sk-parallel-item::before {content: \"\";position: absolute;border-left: 1px solid gray;box-sizing: border-box;top: 0;bottom: 0;left: 50%;z-index: -1;}#sk-container-id-4 div.sk-parallel-item {display: flex;flex-direction: column;z-index: 1;position: relative;background-color: white;}#sk-container-id-4 div.sk-parallel-item:first-child::after {align-self: flex-end;width: 50%;}#sk-container-id-4 div.sk-parallel-item:last-child::after {align-self: flex-start;width: 50%;}#sk-container-id-4 div.sk-parallel-item:only-child::after {width: 0;}#sk-container-id-4 div.sk-dashed-wrapped {border: 1px dashed gray;margin: 0 0.4em 0.5em 0.4em;box-sizing: border-box;padding-bottom: 0.4em;background-color: white;}#sk-container-id-4 div.sk-label label {font-family: monospace;font-weight: bold;display: inline-block;line-height: 1.2em;}#sk-container-id-4 div.sk-label-container {text-align: center;}#sk-container-id-4 div.sk-container {/* jupyter's `normalize.less` sets `[hidden] { display: none; }` but bootstrap.min.css set `[hidden] { display: none !important; }` so we also need the `!important` here to be able to override the default hidden behavior on the sphinx rendered scikit-learn.org. See: https://github.com/scikit-learn/scikit-learn/issues/21755 */display: inline-block !important;position: relative;}#sk-container-id-4 div.sk-text-repr-fallback {display: none;}</style><div id=\"sk-container-id-4\" class=\"sk-top-container\"><div class=\"sk-text-repr-fallback\"><pre>LogisticRegression()</pre><b>In a Jupyter environment, please rerun this cell to show the HTML representation or trust the notebook. <br />On GitHub, the HTML representation is unable to render, please try loading this page with nbviewer.org.</b></div><div class=\"sk-container\" hidden><div class=\"sk-item\"><div class=\"sk-estimator sk-toggleable\"><input class=\"sk-toggleable__control sk-hidden--visually\" id=\"sk-estimator-id-4\" type=\"checkbox\" checked><label for=\"sk-estimator-id-4\" class=\"sk-toggleable__label sk-toggleable__label-arrow\">LogisticRegression</label><div class=\"sk-toggleable__content\"><pre>LogisticRegression()</pre></div></div></div></div></div>"
      ],
      "text/plain": [
       "LogisticRegression()"
      ]
     },
     "execution_count": 118,
     "metadata": {},
     "output_type": "execute_result"
    }
   ],
   "source": [
    "log_reg_model = LogisticRegression()\n",
    "log_reg_model.fit(x_train,y_train)"
   ]
  },
  {
   "cell_type": "code",
   "execution_count": 119,
   "id": "a825ce12",
   "metadata": {},
   "outputs": [
    {
     "data": {
      "text/plain": [
       "0.6471345782356729"
      ]
     },
     "execution_count": 119,
     "metadata": {},
     "output_type": "execute_result"
    }
   ],
   "source": [
    "log_reg_model.score(x_train,y_train)"
   ]
  },
  {
   "cell_type": "code",
   "execution_count": 120,
   "id": "ef8c9d05",
   "metadata": {},
   "outputs": [
    {
     "data": {
      "text/plain": [
       "0.7027027027027027"
      ]
     },
     "execution_count": 120,
     "metadata": {},
     "output_type": "execute_result"
    }
   ],
   "source": [
    "log_reg_model.score(x_test,y_test)"
   ]
  },
  {
   "cell_type": "code",
   "execution_count": 121,
   "id": "e008af4e",
   "metadata": {},
   "outputs": [
    {
     "data": {
      "text/plain": [
       "<sklearn.metrics._plot.confusion_matrix.ConfusionMatrixDisplay at 0x1443c7db910>"
      ]
     },
     "execution_count": 121,
     "metadata": {},
     "output_type": "execute_result"
    },
    {
     "data": {
      "image/png": "[encoded data removed]",
      "text/plain": [
       "<Figure size 640x480 with 2 Axes>"
      ]
     },
     "metadata": {},
     "output_type": "display_data"
    }
   ],
   "source": [
    "ConfusionMatrixDisplay.from_estimator(log_reg_model,x_train,y_train)"
   ]
  },
  {
   "cell_type": "markdown",
   "id": "6e4ced2a",
   "metadata": {},
   "source": [
    "### Train data"
   ]
  },
  {
   "cell_type": "code",
   "execution_count": 122,
   "id": "b1ae85c8",
   "metadata": {},
   "outputs": [
    {
     "name": "stdout",
     "output_type": "stream",
     "text": [
      "Confusion_matrix is \n",
      " [[304 386]\n",
      " [162 701]]\n",
      "Accuracy_score is : 0.6471345782356729\n",
      "classificatoion Report is :               precision    recall  f1-score   support\n",
      "\n",
      "           0       0.65      0.44      0.53       690\n",
      "           1       0.64      0.81      0.72       863\n",
      "\n",
      "    accuracy                           0.65      1553\n",
      "   macro avg       0.65      0.63      0.62      1553\n",
      "weighted avg       0.65      0.65      0.63      1553\n",
      "\n",
      "Precision : 0.6448942042318307\n",
      "Recall : 0.8122827346465817\n",
      "F1 Score: 0.7189743589743591\n",
      "**************************************************\n"
     ]
    }
   ],
   "source": [
    "y_pred_train = log_reg_model.predict(x_train)\n",
    "\n",
    "Confusion_matrix = confusion_matrix(y_train,y_pred_train)\n",
    "print(\"Confusion_matrix is \\n\",Confusion_matrix)\n",
    "\n",
    "Accuracy_score  = accuracy_score(y_train,y_pred_train)\n",
    "print(\"Accuracy_score is :\",Accuracy_score)\n",
    "\n",
    "clf_report = classification_report(y_train,y_pred_train)\n",
    "\n",
    "print(\"classificatoion Report is :\",clf_report)\n",
    "\n",
    "precision_value = precision_score(y_train, y_pred_train)\n",
    "print(\"Precision :\",precision_value)\n",
    "\n",
    "recall_value = recall_score(y_train, y_pred_train)\n",
    "print('Recall :',recall_value)\n",
    "\n",
    "f1_value = f1_score(y_train, y_pred_train)\n",
    "print('F1 Score:',f1_value)\n",
    "print(\"*\"* 50)\n"
   ]
  },
  {
   "cell_type": "markdown",
   "id": "d0a6650d",
   "metadata": {},
   "source": [
    "### test data"
   ]
  },
  {
   "cell_type": "code",
   "execution_count": 123,
   "id": "f1850abd",
   "metadata": {},
   "outputs": [
    {
     "name": "stdout",
     "output_type": "stream",
     "text": [
      "Confusion_matrix is \n",
      " [[146 150]\n",
      " [ 48 322]]\n",
      "Accuracy_score is : 0.7027027027027027\n",
      "              precision    recall  f1-score   support\n",
      "\n",
      "           0       0.75      0.49      0.60       296\n",
      "           1       0.68      0.87      0.76       370\n",
      "\n",
      "    accuracy                           0.70       666\n",
      "   macro avg       0.72      0.68      0.68       666\n",
      "weighted avg       0.71      0.70      0.69       666\n",
      "\n",
      "Precision : 0.6822033898305084\n",
      "Recall : 0.8702702702702703\n",
      "F1 Score: 0.7648456057007126\n",
      "**************************************************\n"
     ]
    }
   ],
   "source": [
    "y_pred_test = log_reg_model.predict(x_test)\n",
    "\n",
    "Confusion_matrix = confusion_matrix(y_test,y_pred_test)\n",
    "print(\"Confusion_matrix is \\n\",Confusion_matrix)\n",
    "\n",
    "Accuracy_score  = accuracy_score(y_test,y_pred_test)\n",
    "print(\"Accuracy_score is :\",Accuracy_score)\n",
    "\n",
    "clf_report = classification_report(y_test,y_pred_test)\n",
    "\n",
    "print(clf_report)\n",
    "\n",
    "precision_value = precision_score(y_test,y_pred_test)\n",
    "print(\"Precision :\",precision_value)\n",
    "\n",
    "recall_value = recall_score(y_test,y_pred_test)\n",
    "print('Recall :',recall_value)\n",
    "\n",
    "f1_value = f1_score(y_test,y_pred_test)\n",
    "print('F1 Score:',f1_value)\n",
    "print(\"*\"* 50)\n"
   ]
  },
  {
   "cell_type": "markdown",
   "id": "c1ea1fd6",
   "metadata": {},
   "source": [
    "### AUC or ROC Cureve"
   ]
  },
  {
   "cell_type": "code",
   "execution_count": 124,
   "id": "847bb315",
   "metadata": {},
   "outputs": [],
   "source": [
    "y_pred_train = log_reg_model.predict(x_train)\n",
    "y_pred_train_prob = log_reg_model.predict_proba(x_train)\n",
    "y_pred_train_prob.shape\n",
    "y_pred_train_prob_class1 = y_pred_train_prob[:,1]"
   ]
  },
  {
   "cell_type": "code",
   "execution_count": 125,
   "id": "475cfd25",
   "metadata": {},
   "outputs": [],
   "source": [
    "fpr,tpr,threshold = roc_curve(y_train,y_pred_train_prob_class1)"
   ]
  },
  {
   "cell_type": "code",
   "execution_count": 126,
   "id": "2bcabf69",
   "metadata": {},
   "outputs": [],
   "source": [
    "# plt.plot(fpr,tpr)\n",
    "# plt.xlabel('False Positive Rate')\n",
    "# plt.ylabel('True Positive Rate')\n",
    "# plt.title(\"ROC Curve\")\n",
    "# plt.savefig('ROC_Curve.png')"
   ]
  },
  {
   "cell_type": "code",
   "execution_count": null,
   "id": "91073583",
   "metadata": {},
   "outputs": [],
   "source": []
  },
  {
   "cell_type": "markdown",
   "id": "9f162aee",
   "metadata": {},
   "source": [
    "### Ridge Regression"
   ]
  },
  {
   "cell_type": "code",
   "execution_count": 127,
   "id": "92033383",
   "metadata": {},
   "outputs": [
    {
     "data": {
      "text/plain": [
       "array([[ 1.31969161e-02,  3.47764853e-01, -4.87667160e-03,\n",
       "         1.01855682e-01,  8.40855451e-02,  1.93414324e-01,\n",
       "         1.53378814e-01,  1.00310162e-01,  2.05492665e-05,\n",
       "        -2.33944745e-02,  2.42129301e-01,  9.27333957e-03]])"
      ]
     },
     "execution_count": 127,
     "metadata": {},
     "output_type": "execute_result"
    }
   ],
   "source": [
    "ridge_model = RidgeClassifier(alpha = 0.1)\n",
    "ridge_model.fit(x_train, y_train)\n",
    "ridge_model.coef_"
   ]
  },
  {
   "cell_type": "code",
   "execution_count": 128,
   "id": "480dc42f",
   "metadata": {},
   "outputs": [
    {
     "name": "stdout",
     "output_type": "stream",
     "text": [
      "Confusion Matrix :\n",
      " [[487 203]\n",
      " [160 703]]\n",
      "**************************************************\n",
      "Accuracy is : 0.7662588538312942\n",
      "**************************************************\n",
      "Classification Report :\n",
      "               precision    recall  f1-score   support\n",
      "\n",
      "           0       0.75      0.71      0.73       690\n",
      "           1       0.78      0.81      0.79       863\n",
      "\n",
      "    accuracy                           0.77      1553\n",
      "   macro avg       0.76      0.76      0.76      1553\n",
      "weighted avg       0.77      0.77      0.77      1553\n",
      "\n",
      "**************************************************\n",
      "Precision : 0.7759381898454746\n",
      "Recall_value is  0.8146002317497103\n",
      "F1 Score: 0.79479932165065\n"
     ]
    }
   ],
   "source": [
    "# Evaluation on Training Dataset\n",
    "\n",
    "y_pred = ridge_model.predict(x_train)\n",
    "\n",
    "cnf_matrix = confusion_matrix(y_train, y_pred)\n",
    "print(\"Confusion Matrix :\\n\", cnf_matrix)\n",
    "print(\"*\"* 50)\n",
    "\n",
    "accuracy = accuracy_score(y_train, y_pred)\n",
    "print(\"Accuracy is :\",accuracy)\n",
    "print(\"*\"* 50)\n",
    "\n",
    "clf_report = classification_report(y_train, y_pred)\n",
    "print('Classification Report :\\n',clf_report)\n",
    "print(\"*\"* 50)\n",
    "\n",
    "precision_value = precision_score(y_train, y_pred)\n",
    "print(\"Precision :\",precision_value)\n",
    "\n",
    "recall_value = recall_score(y_train,y_pred)\n",
    "print(\"Recall_value is \",recall_value)\n",
    "\n",
    "f1_value = f1_score(y_train, y_pred)\n",
    "print('F1 Score:',f1_value)"
   ]
  },
  {
   "cell_type": "code",
   "execution_count": 129,
   "id": "f3ae258b",
   "metadata": {},
   "outputs": [
    {
     "name": "stdout",
     "output_type": "stream",
     "text": [
      "Confusion Matrix :\n",
      " [[216  80]\n",
      " [ 83 287]]\n",
      "**************************************************\n",
      "Accuracy is : 0.7552552552552553\n",
      "**************************************************\n",
      "Classification Report :\n",
      "               precision    recall  f1-score   support\n",
      "\n",
      "           0       0.72      0.73      0.73       296\n",
      "           1       0.78      0.78      0.78       370\n",
      "\n",
      "    accuracy                           0.76       666\n",
      "   macro avg       0.75      0.75      0.75       666\n",
      "weighted avg       0.76      0.76      0.76       666\n",
      "\n",
      "**************************************************\n",
      "Precision : 0.782016348773842\n",
      "Recall : 0.7756756756756756\n",
      "F1 Score: 0.7788331071913162\n",
      "**************************************************\n"
     ]
    }
   ],
   "source": [
    "# Evaluation on Testing Dataset\n",
    "\n",
    "y_pred = ridge_model.predict(x_test)\n",
    "\n",
    "cnf_matrix = confusion_matrix(y_test, y_pred)\n",
    "print(\"Confusion Matrix :\\n\", cnf_matrix)\n",
    "print(\"*\"* 50)\n",
    "\n",
    "accuracy = accuracy_score(y_test, y_pred)\n",
    "print(\"Accuracy is :\",accuracy)\n",
    "print(\"*\"* 50)\n",
    "\n",
    "clf_report = classification_report(y_test, y_pred)\n",
    "print('Classification Report :\\n',clf_report)\n",
    "print(\"*\"* 50)\n",
    "\n",
    "precision_value = precision_score(y_test,y_pred)\n",
    "print(\"Precision :\",precision_value)\n",
    "\n",
    "recall_value = recall_score(y_test,y_pred)\n",
    "print('Recall :',recall_value)\n",
    "\n",
    "f1_value = f1_score(y_test, y_pred)\n",
    "print('F1 Score:',f1_value)\n",
    "print(\"*\"* 50)\n"
   ]
  },
  {
   "cell_type": "markdown",
   "id": "2432f554",
   "metadata": {},
   "source": [
    "### Save the Data"
   ]
  },
  {
   "cell_type": "code",
   "execution_count": 130,
   "id": "0de626d2",
   "metadata": {},
   "outputs": [],
   "source": [
    "with open(r\"artifacts/ridge_model.pkl\",\"wb\") as f:\n",
    "    pickle.dump(ridge_model,f)"
   ]
  },
  {
   "cell_type": "code",
   "execution_count": 131,
   "id": "458f1857",
   "metadata": {},
   "outputs": [
    {
     "data": {
      "text/plain": [
       "Index(['Age', 'Department', 'DistanceFromHome', 'Education', 'EducationField',\n",
       "       'EnvironmentSatisfaction', 'JobSatisfaction', 'MaritalStatus',\n",
       "       'MonthlyIncome', 'NumCompaniesWorked', 'WorkLifeBalance',\n",
       "       'YearsAtCompany'],\n",
       "      dtype='object')"
      ]
     },
     "execution_count": 131,
     "metadata": {},
     "output_type": "execute_result"
    }
   ],
   "source": [
    "x_sampled.columns"
   ]
  },
  {
   "cell_type": "markdown",
   "id": "ab865c01",
   "metadata": {},
   "source": [
    "### Save Data Columns"
   ]
  },
  {
   "cell_type": "code",
   "execution_count": 132,
   "id": "46fe1d65",
   "metadata": {},
   "outputs": [],
   "source": [
    "columns_names = x_sampled.columns\n",
    "Project_data = {\"Columns Name\": columns_names.tolist(),\n",
    "                \"Department\":{'Research & Development': 2, 'Sales':1, 'Human Resources': 0},\n",
    "                \"EducationField\":{'Life Sciences':5,'Medical':4,'Marketing':3,'Technical Degree':2,'Other': 1,'Human Resources': 0},\n",
    "                \"MaritalStatus\":{'Married': 2, 'Single': 1, 'Divorced': 0}}\n",
    "with open(r\"artifacts/project_data2.json\",\"w\") as f:\n",
    "    json.dump(Project_data,f)"
   ]
  },
  {
   "cell_type": "code",
   "execution_count": 133,
   "id": "6323612c",
   "metadata": {},
   "outputs": [
    {
     "data": {
      "text/plain": [
       "12"
      ]
     },
     "execution_count": 133,
     "metadata": {},
     "output_type": "execute_result"
    }
   ],
   "source": [
    "ridge_model.n_features_in_"
   ]
  },
  {
   "cell_type": "code",
   "execution_count": null,
   "id": "bb82625e",
   "metadata": {},
   "outputs": [],
   "source": []
  },
  {
   "cell_type": "code",
   "execution_count": null,
   "id": "46982d39",
   "metadata": {},
   "outputs": [],
   "source": []
  },
  {
   "cell_type": "markdown",
   "id": "8b646400",
   "metadata": {},
   "source": [
    "### Lasso Regression"
   ]
  },
  {
   "cell_type": "code",
   "execution_count": 94,
   "id": "e8a24d2a",
   "metadata": {},
   "outputs": [],
   "source": [
    "# Lasso_model = Lasso(alpha = 0.1)\n",
    "# Lasso_model.fit(x_train, y_train)\n",
    "# Lasso_model.coef_"
   ]
  },
  {
   "cell_type": "code",
   "execution_count": 47,
   "id": "d4366dbc",
   "metadata": {},
   "outputs": [],
   "source": [
    "# # Evaluation on Training Dataset\n",
    "\n",
    "# y_pred = Lasso_model.predict(x_train)\n",
    "\n",
    "# cnf_matrix = confusion_matrix(y_train, y_pred)\n",
    "# print(\"Confusion Matrix :\\n\", cnf_matrix)\n",
    "# print(\"*\"* 50)\n",
    "\n",
    "# accuracy = accuracy_score(y_train, y_pred)\n",
    "# print(\"Accuracy is :\",accuracy)\n",
    "# print(\"*\"* 50)\n",
    "\n",
    "# clf_report = classification_report(y_train, y_pred)\n",
    "# print('Classification Report :\\n',clf_report)\n",
    "# print(\"*\"* 50)\n",
    "\n",
    "# precision_value = precision_score(y_train, y_pred)\n",
    "# print(\"Precision :\",precision_value)\n",
    "\n",
    "# recall_value = recall_score(y_train,y_pred)\n",
    "# print(\"Recall_value is \",recall_value)\n",
    "\n",
    "# f1_value = f1_score(y_train, y_pred)\n",
    "# print('F1 Score:',f1_value)"
   ]
  },
  {
   "cell_type": "code",
   "execution_count": null,
   "id": "bcf16222",
   "metadata": {},
   "outputs": [],
   "source": []
  },
  {
   "cell_type": "code",
   "execution_count": null,
   "id": "4086ca1d",
   "metadata": {},
   "outputs": [],
   "source": []
  },
  {
   "cell_type": "code",
   "execution_count": null,
   "id": "9280233f",
   "metadata": {},
   "outputs": [],
   "source": []
  },
  {
   "cell_type": "markdown",
   "id": "017028b5",
   "metadata": {},
   "source": [
    "### KNN Model"
   ]
  },
  {
   "cell_type": "code",
   "execution_count": 48,
   "id": "ac46fbee",
   "metadata": {},
   "outputs": [
    {
     "data": {
      "text/html": [
       "<style>#sk-container-id-2 {color: black;background-color: white;}#sk-container-id-2 pre{padding: 0;}#sk-container-id-2 div.sk-toggleable {background-color: white;}#sk-container-id-2 label.sk-toggleable__label {cursor: pointer;display: block;width: 100%;margin-bottom: 0;padding: 0.3em;box-sizing: border-box;text-align: center;}#sk-container-id-2 label.sk-toggleable__label-arrow:before {content: \"▸\";float: left;margin-right: 0.25em;color: #696969;}#sk-container-id-2 label.sk-toggleable__label-arrow:hover:before {color: black;}#sk-container-id-2 div.sk-estimator:hover label.sk-toggleable__label-arrow:before {color: black;}#sk-container-id-2 div.sk-toggleable__content {max-height: 0;max-width: 0;overflow: hidden;text-align: left;background-color: #f0f8ff;}#sk-container-id-2 div.sk-toggleable__content pre {margin: 0.2em;color: black;border-radius: 0.25em;background-color: #f0f8ff;}#sk-container-id-2 input.sk-toggleable__control:checked~div.sk-toggleable__content {max-height: 200px;max-width: 100%;overflow: auto;}#sk-container-id-2 input.sk-toggleable__control:checked~label.sk-toggleable__label-arrow:before {content: \"▾\";}#sk-container-id-2 div.sk-estimator input.sk-toggleable__control:checked~label.sk-toggleable__label {background-color: #d4ebff;}#sk-container-id-2 div.sk-label input.sk-toggleable__control:checked~label.sk-toggleable__label {background-color: #d4ebff;}#sk-container-id-2 input.sk-hidden--visually {border: 0;clip: rect(1px 1px 1px 1px);clip: rect(1px, 1px, 1px, 1px);height: 1px;margin: -1px;overflow: hidden;padding: 0;position: absolute;width: 1px;}#sk-container-id-2 div.sk-estimator {font-family: monospace;background-color: #f0f8ff;border: 1px dotted black;border-radius: 0.25em;box-sizing: border-box;margin-bottom: 0.5em;}#sk-container-id-2 div.sk-estimator:hover {background-color: #d4ebff;}#sk-container-id-2 div.sk-parallel-item::after {content: \"\";width: 100%;border-bottom: 1px solid gray;flex-grow: 1;}#sk-container-id-2 div.sk-label:hover label.sk-toggleable__label {background-color: #d4ebff;}#sk-container-id-2 div.sk-serial::before {content: \"\";position: absolute;border-left: 1px solid gray;box-sizing: border-box;top: 0;bottom: 0;left: 50%;z-index: 0;}#sk-container-id-2 div.sk-serial {display: flex;flex-direction: column;align-items: center;background-color: white;padding-right: 0.2em;padding-left: 0.2em;position: relative;}#sk-container-id-2 div.sk-item {position: relative;z-index: 1;}#sk-container-id-2 div.sk-parallel {display: flex;align-items: stretch;justify-content: center;background-color: white;position: relative;}#sk-container-id-2 div.sk-item::before, #sk-container-id-2 div.sk-parallel-item::before {content: \"\";position: absolute;border-left: 1px solid gray;box-sizing: border-box;top: 0;bottom: 0;left: 50%;z-index: -1;}#sk-container-id-2 div.sk-parallel-item {display: flex;flex-direction: column;z-index: 1;position: relative;background-color: white;}#sk-container-id-2 div.sk-parallel-item:first-child::after {align-self: flex-end;width: 50%;}#sk-container-id-2 div.sk-parallel-item:last-child::after {align-self: flex-start;width: 50%;}#sk-container-id-2 div.sk-parallel-item:only-child::after {width: 0;}#sk-container-id-2 div.sk-dashed-wrapped {border: 1px dashed gray;margin: 0 0.4em 0.5em 0.4em;box-sizing: border-box;padding-bottom: 0.4em;background-color: white;}#sk-container-id-2 div.sk-label label {font-family: monospace;font-weight: bold;display: inline-block;line-height: 1.2em;}#sk-container-id-2 div.sk-label-container {text-align: center;}#sk-container-id-2 div.sk-container {/* jupyter's `normalize.less` sets `[hidden] { display: none; }` but bootstrap.min.css set `[hidden] { display: none !important; }` so we also need the `!important` here to be able to override the default hidden behavior on the sphinx rendered scikit-learn.org. See: https://github.com/scikit-learn/scikit-learn/issues/21755 */display: inline-block !important;position: relative;}#sk-container-id-2 div.sk-text-repr-fallback {display: none;}</style><div id=\"sk-container-id-2\" class=\"sk-top-container\"><div class=\"sk-text-repr-fallback\"><pre>KNeighborsClassifier()</pre><b>In a Jupyter environment, please rerun this cell to show the HTML representation or trust the notebook. <br />On GitHub, the HTML representation is unable to render, please try loading this page with nbviewer.org.</b></div><div class=\"sk-container\" hidden><div class=\"sk-item\"><div class=\"sk-estimator sk-toggleable\"><input class=\"sk-toggleable__control sk-hidden--visually\" id=\"sk-estimator-id-2\" type=\"checkbox\" checked><label for=\"sk-estimator-id-2\" class=\"sk-toggleable__label sk-toggleable__label-arrow\">KNeighborsClassifier</label><div class=\"sk-toggleable__content\"><pre>KNeighborsClassifier()</pre></div></div></div></div></div>"
      ],
      "text/plain": [
       "KNeighborsClassifier()"
      ]
     },
     "execution_count": 48,
     "metadata": {},
     "output_type": "execute_result"
    }
   ],
   "source": [
    "knn_clf = KNeighborsClassifier(n_neighbors=5,p=2)\n",
    "knn_clf.fit(x_train,y_train)"
   ]
  },
  {
   "cell_type": "code",
   "execution_count": 49,
   "id": "34ad8a0c",
   "metadata": {},
   "outputs": [
    {
     "name": "stdout",
     "output_type": "stream",
     "text": [
      "Confusion Matrix :\n",
      " [[576 114]\n",
      " [188 675]]\n",
      "Accuracy : 0.8055376690276883\n",
      "Classification Report :\n",
      "               precision    recall  f1-score   support\n",
      "\n",
      "           0       0.75      0.83      0.79       690\n",
      "           1       0.86      0.78      0.82       863\n",
      "\n",
      "    accuracy                           0.81      1553\n",
      "   macro avg       0.80      0.81      0.80      1553\n",
      "weighted avg       0.81      0.81      0.81      1553\n",
      "\n"
     ]
    }
   ],
   "source": [
    "# Traning Data Evaluation\n",
    "\n",
    "y_pred_train = knn_clf.predict(x_train)\n",
    "\n",
    "cnf_matrix = confusion_matrix(y_train,y_pred_train)\n",
    "print('Confusion Matrix :\\n',cnf_matrix)\n",
    "\n",
    "accuracy = accuracy_score(y_train,y_pred_train)\n",
    "print('Accuracy :',accuracy)\n",
    "\n",
    "clf_report = classification_report(y_train,y_pred_train)\n",
    "print('Classification Report :\\n',clf_report)"
   ]
  },
  {
   "cell_type": "code",
   "execution_count": 50,
   "id": "c039440e",
   "metadata": {},
   "outputs": [
    {
     "name": "stdout",
     "output_type": "stream",
     "text": [
      "Confusion Matix : [[210  86]\n",
      " [116 254]]\n",
      "Accuracy : 0.6966966966966966\n",
      "Classification Report :\n",
      "               precision    recall  f1-score   support\n",
      "\n",
      "           0       0.64      0.71      0.68       296\n",
      "           1       0.75      0.69      0.72       370\n",
      "\n",
      "    accuracy                           0.70       666\n",
      "   macro avg       0.70      0.70      0.70       666\n",
      "weighted avg       0.70      0.70      0.70       666\n",
      "\n"
     ]
    }
   ],
   "source": [
    "# Testing Data Evaluation\n",
    "\n",
    "y_pred = knn_clf.predict(x_test)\n",
    "\n",
    "cnf_matrix = confusion_matrix(y_test,y_pred)\n",
    "print('Confusion Matix :',cnf_matrix)\n",
    "\n",
    "accuracy = accuracy_score(y_test,y_pred)\n",
    "print('Accuracy :',accuracy)\n",
    "\n",
    "clf_report = classification_report(y_test,y_pred)\n",
    "print('Classification Report :\\n',clf_report)"
   ]
  },
  {
   "cell_type": "code",
   "execution_count": 51,
   "id": "a0d4d49c",
   "metadata": {},
   "outputs": [],
   "source": [
    "train_accuracy_list = []\n",
    "test_accuracy_list = list()\n",
    "k_values = np.arange(3,20)\n",
    "for k in k_values:\n",
    "    knn_clf = KNeighborsClassifier(n_neighbors=k, p=2)\n",
    "    knn_clf.fit(x_train, y_train)\n",
    "    \n",
    "    train_accuracy = np.around(knn_clf.score(x_train, y_train),3)\n",
    "    train_accuracy_list.append(train_accuracy)\n",
    "    \n",
    "    test_accuracy = np.around(knn_clf.score(x_test, y_test),3)\n",
    "    test_accuracy_list.append(test_accuracy)\n"
   ]
  },
  {
   "cell_type": "code",
   "execution_count": 53,
   "id": "6a3c70d0",
   "metadata": {},
   "outputs": [],
   "source": [
    "# plt.plot(k_values, train_accuracy_list)\n",
    "# plt.plot(k_values, test_accuracy_list)\n",
    "# plt.xlabel(\"K Values\")\n",
    "# plt.ylabel('Accuracies')\n",
    "# plt.title(\"Train and Test Accuracies with Euclidean Distance\")\n",
    "# plt.savefig(\"Accuracy_ED.png\")"
   ]
  },
  {
   "cell_type": "markdown",
   "id": "a12b798f",
   "metadata": {},
   "source": [
    "### KNN Scalling"
   ]
  },
  {
   "cell_type": "code",
   "execution_count": 41,
   "id": "6391222f",
   "metadata": {},
   "outputs": [],
   "source": [
    "from sklearn.preprocessing import MinMaxScaler,StandardScaler"
   ]
  },
  {
   "cell_type": "code",
   "execution_count": 3,
   "id": "134873fd",
   "metadata": {},
   "outputs": [],
   "source": [
    "# normal_scaler = StandardScaler()\n",
    "# array = normal_scaler.fit_transform(x_samped)\n",
    "# dfx = pd.DataFrame(array,columns= x_smpled.columns)\n",
    "# dfx"
   ]
  },
  {
   "cell_type": "code",
   "execution_count": 4,
   "id": "12f92891",
   "metadata": {},
   "outputs": [],
   "source": [
    "# x_train,x_test,y_train,y_test = train_test_split(dfx,y_samped,test_size=0.2,random_state=30)\n",
    "# KNN_reg = KNeighborsRegressor(n_neighbors=3,p=1)\n",
    "# KNN_reg.fit(x_train,y_train)"
   ]
  },
  {
   "cell_type": "code",
   "execution_count": 5,
   "id": "1a64d0ba",
   "metadata": {},
   "outputs": [],
   "source": [
    "#  y_pred_train = knn_clf.predict(x_train)\n",
    "\n",
    "# cnf_matrix = confusion_matrix(y_train, y_pred_train)\n",
    "# print(\"Confusion Matrix :\\n\", cnf_matrix)\n",
    "\n",
    "# accuracy = accuracy_score(y_train, y_pred_train)\n",
    "# print(\"Accuracy :\", accuracy)\n",
    "\n",
    "# clf_report = classification_report(y_train, y_pred_train)\n",
    "# print(\"Classification Report :\\n\", clf_report)"
   ]
  },
  {
   "cell_type": "code",
   "execution_count": null,
   "id": "c9d04352",
   "metadata": {},
   "outputs": [],
   "source": []
  },
  {
   "cell_type": "code",
   "execution_count": 54,
   "id": "5766f3c2",
   "metadata": {},
   "outputs": [
    {
     "name": "stdout",
     "output_type": "stream",
     "text": [
      "Package              Version\n",
      "-------------------- -----------\n",
      "anyio                3.6.1\n",
      "argon2-cffi          21.3.0\n",
      "argon2-cffi-bindings 21.2.0\n",
      "asttokens            2.0.8\n",
      "attrs                22.1.0\n",
      "Babel                2.10.3\n",
      "backcall             0.2.0\n",
      "beautifulsoup4       4.11.1\n",
      "bleach               5.0.1\n",
      "certifi              2022.6.15\n",
      "cffi                 1.15.1\n",
      "charset-normalizer   2.1.1\n",
      "click                8.1.3\n",
      "colorama             0.4.5\n",
      "contourpy            1.0.6\n",
      "cycler               0.11.0\n",
      "debugpy              1.6.3\n",
      "decorator            5.1.1\n",
      "defusedxml           0.7.1\n",
      "dnspython            2.3.0\n",
      "entrypoints          0.4\n",
      "et-xmlfile           1.1.0\n",
      "executing            0.10.0\n",
      "fastjsonschema       2.16.1\n",
      "Flask                2.2.2\n",
      "fonttools            4.38.0\n",
      "idna                 3.3\n",
      "imbalanced-learn     0.10.1\n",
      "imblearn             0.0\n",
      "ipykernel            6.15.1\n",
      "ipython              8.4.0\n",
      "ipython-genutils     0.2.0\n",
      "ipywidgets           8.0.1\n",
      "itsdangerous         2.1.2\n",
      "jedi                 0.18.1\n",
      "Jinja2               3.1.2\n",
      "joblib               1.2.0\n",
      "json5                0.9.10\n",
      "jsonschema           4.14.0\n",
      "jupyter              1.0.0\n",
      "jupyter_client       7.3.5\n",
      "jupyter-console      6.4.4\n",
      "jupyter-core         4.11.1\n",
      "jupyter-server       1.18.1\n",
      "jupyterlab           3.4.5\n",
      "jupyterlab-pygments  0.2.2\n",
      "jupyterlab_server    2.15.1\n",
      "jupyterlab-widgets   3.0.2\n",
      "kiwisolver           1.4.4\n",
      "lxml                 4.9.1\n",
      "MarkupSafe           2.1.1\n",
      "matplotlib           3.6.2\n",
      "matplotlib-inline    0.1.6\n",
      "mistune              2.0.4\n",
      "nbclassic            0.4.3\n",
      "nbclient             0.6.7\n",
      "nbconvert            7.0.0\n",
      "nbformat             5.4.0\n",
      "nest-asyncio         1.5.5\n",
      "notebook             6.4.12\n",
      "notebook-shim        0.1.0\n",
      "numpy                1.23.4\n",
      "openpyxl             3.0.10\n",
      "packaging            21.3\n",
      "pandas               1.5.1\n",
      "pandocfilters        1.5.0\n",
      "parso                0.8.3\n",
      "patsy                0.5.3\n",
      "pickleshare          0.7.5\n",
      "Pillow               9.3.0\n",
      "pip                  22.3.1\n",
      "plotly               5.11.0\n",
      "plyer                2.1.0\n",
      "prometheus-client    0.14.1\n",
      "prompt-toolkit       3.0.30\n",
      "psutil               5.9.1\n",
      "pure-eval            0.2.2\n",
      "pycparser            2.21\n",
      "Pygments             2.13.0\n",
      "pymongo              4.3.3\n",
      "pyparsing            3.0.9\n",
      "pyrsistent           0.18.1\n",
      "pytesseract          0.3.10\n",
      "python-dateutil      2.8.2\n",
      "pytz                 2022.2.1\n",
      "pywin32              304\n",
      "pywinpty             2.0.7\n",
      "pyzmq                23.2.1\n",
      "qtconsole            5.3.1\n",
      "QtPy                 2.2.0\n",
      "requests             2.28.1\n",
      "scikit-learn         1.2.0\n",
      "scipy                1.9.3\n",
      "seaborn              0.12.1\n",
      "Send2Trash           1.8.0\n",
      "setuptools           63.2.0\n",
      "six                  1.16.0\n",
      "sklearn              0.0.post1\n",
      "sniffio              1.2.0\n",
      "soupsieve            2.3.2.post1\n",
      "stack-data           0.4.0\n",
      "statsmodels          0.13.5\n",
      "tenacity             8.1.0\n",
      "terminado            0.15.0\n",
      "threadpoolctl        3.1.0\n",
      "tinycss2             1.1.1\n",
      "tornado              6.2\n",
      "traitlets            5.3.0\n",
      "urllib3              1.26.12\n",
      "wcwidth              0.2.5\n",
      "webencodings         0.5.1\n",
      "websocket-client     1.4.0\n",
      "Werkzeug             2.2.2\n",
      "widgetsnbextension   4.0.2\n",
      "Note: you may need to restart the kernel to use updated packages.\n"
     ]
    },
    {
     "name": "stderr",
     "output_type": "stream",
     "text": [
      "\n",
      "[notice] A new release of pip available: 22.3.1 -> 23.0\n",
      "[notice] To update, run: python.exe -m pip install --upgrade pip\n"
     ]
    }
   ],
   "source": [
    "pip list"
   ]
  },
  {
   "cell_type": "code",
   "execution_count": null,
   "id": "3172ab5c",
   "metadata": {},
   "outputs": [],
   "source": [
    "Flask                2.2.2\n",
    "numpy                1.23.4\n",
    "pandas               1.5.1\n",
    "scikit-learn         1.2.0\n",
    "seaborn              0.12.1\n"
   ]
  }
 ],
 "metadata": {
  "kernelspec": {
   "display_name": "Python 3 (ipykernel)",
   "language": "python",
   "name": "python3"
  },
  "language_info": {
   "codemirror_mode": {
    "name": "ipython",
    "version": 3
   },
   "file_extension": ".py",
   "mimetype": "text/x-python",
   "name": "python",
   "nbconvert_exporter": "python",
   "pygments_lexer": "ipython3",
   "version": "3.10.6"
  }
 },
 "nbformat": 4,
 "nbformat_minor": 5
}
